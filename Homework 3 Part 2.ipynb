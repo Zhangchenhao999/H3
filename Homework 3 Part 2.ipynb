{
 "cells": [
  {
   "cell_type": "markdown",
   "id": "ae6f7713",
   "metadata": {},
   "source": [
    "# Homework 3 Part 2"
   ]
  },
  {
   "cell_type": "markdown",
   "id": "46e70137",
   "metadata": {},
   "source": [
    "**This is an individual assignment.**"
   ]
  },
  {
   "cell_type": "markdown",
   "id": "a96a000b",
   "metadata": {},
   "source": [
    "---"
   ]
  },
  {
   "cell_type": "markdown",
   "id": "e25e7579",
   "metadata": {},
   "source": [
    "Write your own code and justify all your answers. You may repurpose any functions built during lecture. You may use ```scikit-learn``` functions."
   ]
  },
  {
   "cell_type": "markdown",
   "id": "a0e3a152",
   "metadata": {},
   "source": [
    "---"
   ]
  },
  {
   "cell_type": "code",
   "execution_count": null,
   "id": "cfbdf420",
   "metadata": {},
   "outputs": [],
   "source": [
    "# Import libraries and magics\n",
    "\n",
    "import numpy as np\n",
    "import matplotlib.pyplot as plt\n",
    "%matplotlib inline\n",
    "plt.style.use('bmh')\n",
    "\n"
   ]
  },
  {
   "cell_type": "markdown",
   "id": "e7764046",
   "metadata": {},
   "source": [
    "# Exercise 1 (10 points)"
   ]
  },
  {
   "cell_type": "markdown",
   "id": "03b3d15c",
   "metadata": {},
   "source": [
    "**Consider the dataset we worked with in class:**"
   ]
  },
  {
   "cell_type": "code",
   "execution_count": null,
   "id": "82abbe71",
   "metadata": {},
   "outputs": [],
   "source": [
    "X = np.load('data.npy')\n",
    "t = np.load('labels.npy')\n",
    "\n",
    "plt.scatter(X[:,0], X[:,1], c=t);"
   ]
  },
  {
   "cell_type": "markdown",
   "id": "4eaef7f2",
   "metadata": {},
   "source": [
    "1. (8 points) **Solve for the parameters ($\\mathbf{w}$ and $w_0$) of the discriminant function you solved for in HW3-Part1-Q1. Plot the corresponding discriminant function.**"
   ]
  },
  {
   "cell_type": "code",
   "execution_count": null,
   "id": "85eb31dd-9e9d-4793-940c-0e8d0176210e",
   "metadata": {},
   "outputs": [],
   "source": []
  },
  {
   "cell_type": "code",
   "execution_count": null,
   "id": "bc6bfdc7-1186-47ac-a2e4-be70960c0811",
   "metadata": {},
   "outputs": [],
   "source": []
  },
  {
   "cell_type": "code",
   "execution_count": null,
   "id": "ffca5cae-22cb-4d6c-b152-b23c13b56fa5",
   "metadata": {},
   "outputs": [],
   "source": []
  },
  {
   "cell_type": "markdown",
   "id": "afe33291",
   "metadata": {},
   "source": [
    "2. (2 points) **Compare your solution with the standard LDA discriminant function.**"
   ]
  },
  {
   "cell_type": "code",
   "execution_count": null,
   "id": "d6195433-8627-4d87-bc93-693927a833b4",
   "metadata": {},
   "outputs": [],
   "source": []
  },
  {
   "cell_type": "code",
   "execution_count": null,
   "id": "feaeb6e4-75dc-4600-9b1a-8f1d82d6cacf",
   "metadata": {},
   "outputs": [],
   "source": []
  },
  {
   "cell_type": "code",
   "execution_count": null,
   "id": "6c135eda-0207-4a91-bb64-179bc4e4a8df",
   "metadata": {},
   "outputs": [],
   "source": []
  },
  {
   "cell_type": "markdown",
   "id": "478b27e9",
   "metadata": {},
   "source": [
    "# Exercise 2 (35 points)"
   ]
  },
  {
   "cell_type": "markdown",
   "id": "e7faae2a",
   "metadata": {},
   "source": [
    "**In this problem you will be working with the [handwritten digits](https://scikit-learn.org/stable/modules/generated/sklearn.datasets.load_digits.html) from ```scikit-learn```. The dataset contains 1797 samples. Each sample is a 64-dimensional vector representing all pixels of a $8\\times 8$ grayscale image of a handwritten digit. There are a total of 10 digits (10 targets) and about 180 images per digit. Let's load the data:**"
   ]
  },
  {
   "cell_type": "code",
   "execution_count": null,
   "id": "ae2d17f4",
   "metadata": {},
   "outputs": [],
   "source": [
    "from sklearn.datasets import load_digits\n",
    "\n",
    "digits = load_digits(return_X_y=False)\n",
    "\n",
    "# print(digits.DESCR)"
   ]
  },
  {
   "cell_type": "code",
   "execution_count": null,
   "id": "3242339f",
   "metadata": {},
   "outputs": [],
   "source": [
    "X = digits.data # training data\n",
    "t = digits.target # target values\n",
    "\n",
    "X.shape, t.shape"
   ]
  },
  {
   "cell_type": "code",
   "execution_count": null,
   "id": "38021a29",
   "metadata": {},
   "outputs": [],
   "source": [
    "plt.figure(figsize=(5,3))\n",
    "grid=1\n",
    "for j in range(10):\n",
    "    loc = np.where(t==j)[0]\n",
    "    idx_rd = np.random.choice(loc,15,replace=False)\n",
    "    for i in range(15):\n",
    "        plt.subplot(10,15,grid)\n",
    "        plt.imshow(X[idx_rd[i],:].reshape(8,8), cmap='gray')\n",
    "        plt.axis('off')\n",
    "        grid+=1"
   ]
  },
  {
   "cell_type": "markdown",
   "id": "5e835069",
   "metadata": {},
   "source": [
    "**Consider the following training-test split and use it for the next set of questions:**"
   ]
  },
  {
   "cell_type": "code",
   "execution_count": null,
   "id": "64e49179",
   "metadata": {},
   "outputs": [],
   "source": [
    "# Partitioning the data into training and test\n",
    "\n",
    "X_train, X_test, t_train, t_test = train_test_split(X, t, stratify=t, test_size=0.2, random_state=0)"
   ]
  },
  {
   "cell_type": "markdown",
   "id": "c012552a",
   "metadata": {},
   "source": [
    "1. (2.5 points) **Create a ```Pipeline``` object to train a Logistic Regression classifier (```SGDClassifier```). Make sure to use the proper objective function (parameter ```loss```) and include a scaling step in the pipeline. (An example is available in Lecture 19 Notebook.)**"
   ]
  },
  {
   "cell_type": "code",
   "execution_count": null,
   "id": "a9be394b-38b9-479a-ac71-a2fe64f48de3",
   "metadata": {},
   "outputs": [],
   "source": []
  },
  {
   "cell_type": "code",
   "execution_count": null,
   "id": "e1afb640-a001-42d1-a65a-86fb4f708feb",
   "metadata": {},
   "outputs": [],
   "source": []
  },
  {
   "cell_type": "code",
   "execution_count": null,
   "id": "16bd3ab4-f124-439f-82e4-c8168ca2f66c",
   "metadata": {},
   "outputs": [],
   "source": []
  },
  {
   "cell_type": "markdown",
   "id": "b79f282c",
   "metadata": {},
   "source": [
    "2. (5 points) **Carry experimental design to tune 2 hyperparameters, the learning rate scheduler and the Ridge regularizer parameter. In your grid search object, consider a 10-fold CV scheme.**"
   ]
  },
  {
   "cell_type": "code",
   "execution_count": null,
   "id": "754e6827-560f-43a9-802c-9206f658ff82",
   "metadata": {},
   "outputs": [],
   "source": []
  },
  {
   "cell_type": "code",
   "execution_count": null,
   "id": "fe30f58d-9be1-4216-9d90-1fd489ac3460",
   "metadata": {},
   "outputs": [],
   "source": []
  },
  {
   "cell_type": "code",
   "execution_count": null,
   "id": "867125ac-99e0-4b61-9586-f201527eb3f2",
   "metadata": {},
   "outputs": [],
   "source": []
  },
  {
   "cell_type": "markdown",
   "id": "245557df",
   "metadata": {},
   "source": [
    "3. (5 points) **Report performance in test set including accuracy, f1-score and confusion matrices. Compare performances between all classifiers.**"
   ]
  },
  {
   "cell_type": "code",
   "execution_count": null,
   "id": "7848db8e-9f1f-4954-8fe6-37f13a90df98",
   "metadata": {},
   "outputs": [],
   "source": []
  },
  {
   "cell_type": "code",
   "execution_count": null,
   "id": "20b6bb39-2058-4d63-8870-2d0fa420e59a",
   "metadata": {},
   "outputs": [],
   "source": []
  },
  {
   "cell_type": "code",
   "execution_count": null,
   "id": "0e8e99c6-857b-495c-9d32-a2bfe5f3c01f",
   "metadata": {},
   "outputs": [],
   "source": []
  },
  {
   "cell_type": "markdown",
   "id": "d11b9c18",
   "metadata": {},
   "source": [
    "4. (5 points) **Visualize images that were misclassified in test. Provide a discussion on your observations and what procedures could you take to improve results on the bets performing classifier.**"
   ]
  },
  {
   "cell_type": "code",
   "execution_count": null,
   "id": "cac987e4-ebf7-4d63-814d-8537d73b46fe",
   "metadata": {},
   "outputs": [],
   "source": []
  },
  {
   "cell_type": "code",
   "execution_count": null,
   "id": "5910547f-7f2f-42a0-8fd6-2d685c020e52",
   "metadata": {},
   "outputs": [],
   "source": []
  },
  {
   "cell_type": "code",
   "execution_count": null,
   "id": "f23d7b20-5baa-45f2-88ae-4447226135cc",
   "metadata": {},
   "outputs": [],
   "source": []
  },
  {
   "cell_type": "markdown",
   "id": "892a6880",
   "metadata": {},
   "source": [
    "5. (2.5 points) **Create a ```Pipeline``` object to train a Support Vector Machine classifier (```SVC```). Make sure to include a scaling step in the pipeline.**"
   ]
  },
  {
   "cell_type": "code",
   "execution_count": null,
   "id": "38fe481d-3691-42bb-9391-c1d8e161475f",
   "metadata": {},
   "outputs": [],
   "source": []
  },
  {
   "cell_type": "code",
   "execution_count": null,
   "id": "b8a82132-7a12-4775-8feb-1c862441b586",
   "metadata": {},
   "outputs": [],
   "source": []
  },
  {
   "cell_type": "code",
   "execution_count": null,
   "id": "3f396af1-36c1-453f-921e-ba85565ad588",
   "metadata": {},
   "outputs": [],
   "source": []
  },
  {
   "cell_type": "markdown",
   "id": "e3ca054f",
   "metadata": {},
   "source": [
    "6. (5 points) **Carry experimental design to tune 2 hyperparameters, the kernel function and the regularization parameter.  In your grid search object, consider a 10-fold CV scheme.**"
   ]
  },
  {
   "cell_type": "code",
   "execution_count": null,
   "id": "940bb78f-3240-4c55-9705-48f6416a5b6c",
   "metadata": {},
   "outputs": [],
   "source": []
  },
  {
   "cell_type": "code",
   "execution_count": null,
   "id": "e0526d3f-ea79-418a-9ab5-1f4f5aaef753",
   "metadata": {},
   "outputs": [],
   "source": []
  },
  {
   "cell_type": "code",
   "execution_count": null,
   "id": "2c8e4943-2877-43d2-8938-1249be5e9d93",
   "metadata": {},
   "outputs": [],
   "source": []
  },
  {
   "cell_type": "markdown",
   "id": "8bf16911",
   "metadata": {},
   "source": [
    "7. (5 points) **Report performance in test set including accuracy, f1-score and confusion matrices. Compare performances between all classifiers.**"
   ]
  },
  {
   "cell_type": "code",
   "execution_count": null,
   "id": "d9c5daa1-8341-4521-a1d3-80e18e8b03f8",
   "metadata": {},
   "outputs": [],
   "source": []
  },
  {
   "cell_type": "code",
   "execution_count": null,
   "id": "3bd41042-525e-4cb1-ab97-64b917e0c0ac",
   "metadata": {},
   "outputs": [],
   "source": []
  },
  {
   "cell_type": "code",
   "execution_count": null,
   "id": "d359adbe-8a62-4d65-ba02-3f369dd814a1",
   "metadata": {},
   "outputs": [],
   "source": []
  },
  {
   "cell_type": "markdown",
   "id": "113831d0",
   "metadata": {},
   "source": [
    "8. (5 points) **Visualize images that were misclassified in test. Provide a discussion on your observations and what procedures could you take to improve results on the bets performing classifier.**"
   ]
  },
  {
   "cell_type": "code",
   "execution_count": null,
   "id": "9218d722-2290-48d7-8866-9f3ea041c972",
   "metadata": {},
   "outputs": [],
   "source": []
  },
  {
   "cell_type": "code",
   "execution_count": null,
   "id": "a9865708-8332-4afc-8fb6-4e786841a101",
   "metadata": {},
   "outputs": [],
   "source": []
  },
  {
   "cell_type": "code",
   "execution_count": null,
   "id": "16f07c74-ccaa-4a6d-9760-eeced07d41cf",
   "metadata": {},
   "outputs": [],
   "source": []
  },
  {
   "cell_type": "markdown",
   "id": "fbf994d7",
   "metadata": {},
   "source": [
    "---"
   ]
  },
  {
   "cell_type": "markdown",
   "id": "05482a2d",
   "metadata": {},
   "source": [
    "# On-Time (5 points)"
   ]
  },
  {
   "cell_type": "markdown",
   "id": "eeb96beb",
   "metadata": {},
   "source": [
    "Submit your assignment before the deadline."
   ]
  },
  {
   "cell_type": "markdown",
   "id": "fca49709",
   "metadata": {},
   "source": [
    "___\n",
    "\n",
    "# Submit Your Solution\n",
    "\n",
    "Confirm that you've successfully completed the assignment.\n",
    "\n",
    "Along with the Notebook, include a PDF of the notebook with your solutions.\n",
    "\n",
    "```add``` and ```commit``` the final version of your work, and ```push``` your code to your GitHub repository.\n",
    "\n",
    "Submit the URL of your GitHub Repository as your assignment submission on Canvas.\n",
    "\n",
    "___"
   ]
  }
 ],
 "metadata": {
  "kernelspec": {
   "display_name": "Python 3 (ipykernel)",
   "language": "python",
   "name": "python3"
  },
  "language_info": {
   "codemirror_mode": {
    "name": "ipython",
    "version": 3
   },
   "file_extension": ".py",
   "mimetype": "text/x-python",
   "name": "python",
   "nbconvert_exporter": "python",
   "pygments_lexer": "ipython3",
   "version": "3.11.9"
  },
  "latex_envs": {
   "LaTeX_envs_menu_present": true,
   "autoclose": true,
   "autocomplete": true,
   "bibliofile": "biblio.bib",
   "cite_by": "apalike",
   "current_citInitial": 1,
   "eqLabelWithNumbers": true,
   "eqNumInitial": 1,
   "hotkeys": {
    "equation": "Ctrl-E",
    "itemize": "Ctrl-I"
   },
   "labels_anchors": false,
   "latex_user_defs": false,
   "report_style_numbering": false,
   "user_envs_cfg": false
  },
  "varInspector": {
   "cols": {
    "lenName": 16,
    "lenType": 16,
    "lenVar": 40
   },
   "kernels_config": {
    "python": {
     "delete_cmd_postfix": "",
     "delete_cmd_prefix": "del ",
     "library": "var_list.py",
     "varRefreshCmd": "print(var_dic_list())"
    },
    "r": {
     "delete_cmd_postfix": ") ",
     "delete_cmd_prefix": "rm(",
     "library": "var_list.r",
     "varRefreshCmd": "cat(var_dic_list()) "
    }
   },
   "types_to_exclude": [
    "module",
    "function",
    "builtin_function_or_method",
    "instance",
    "_Feature"
   ],
   "window_display": false
  },
  "widgets": {
   "application/vnd.jupyter.widget-state+json": {
    "state": {},
    "version_major": 2,
    "version_minor": 0
   }
  }
 },
 "nbformat": 4,
 "nbformat_minor": 5
}
